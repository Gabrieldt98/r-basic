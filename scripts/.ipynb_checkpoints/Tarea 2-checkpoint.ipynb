{
 "cells": [
  {
   "cell_type": "markdown",
   "id": "fe23bbe3",
   "metadata": {},
   "source": [
    "# Tarea 2"
   ]
  },
  {
   "cell_type": "markdown",
   "id": "92127be5",
   "metadata": {},
   "source": [
    "1. Escribe una secuencia de instrucciones que permitar leer un número real por pantalla y que muestre si el número es positivo o no."
   ]
  },
  {
   "cell_type": "code",
   "execution_count": 23,
   "id": "71fb944b",
   "metadata": {},
   "outputs": [
    {
     "name": "stdout",
     "output_type": "stream",
     "text": [
      "Ingresa un número: -0.6931471805599453\n",
      "El número ingresado es negativo.\n"
     ]
    }
   ],
   "source": [
    "num = input(\"Ingresa un número: \")\n",
    "if float(num) > 0:\n",
    "    print(\"El número ingresado es positivo.\")\n",
    "elif float(num) == 0:\n",
    "    print(\"El número ingresado no es positivo ni negativo.\")\n",
    "else:\n",
    "    print(\"El número ingresado es negativo.\")"
   ]
  },
  {
   "cell_type": "markdown",
   "id": "0c52a11b",
   "metadata": {},
   "source": [
    "2. Escribe una secuencia de instrucciones que permitan leer un número real por pantalla y que muestre si el número está en el rango entre -5 y 5, ambos incluidos."
   ]
  },
  {
   "cell_type": "code",
   "execution_count": 1,
   "id": "059d7085",
   "metadata": {},
   "outputs": [
    {
     "name": "stdout",
     "output_type": "stream",
     "text": [
      "Ingresa un número: 3\n",
      "El número ingresado se encuentra en el rango [-5,5]\n"
     ]
    }
   ],
   "source": [
    "num = input(\"Ingresa un número: \")\n",
    "if float(num) > -5 and float(num) < 5:\n",
    "    print(\"El número ingresado se encuentra en el rango [-5,5]\")\n",
    "else:\n",
    "    print(\"El número ingresado no se encuentra en el rango [-5,5]\")"
   ]
  },
  {
   "cell_type": "markdown",
   "id": "24d2baab",
   "metadata": {},
   "source": [
    "3. Escribe una secuencia de instrucciones que permitan leer las coordenadas de un punto (x, y) e indique en cuál de los cuatro cuadrantes se encuentra dicho punto.\n",
    "\n",
    "Si x = 0, deberás indicar que el punto se encuentra sobre el eje vertical.\n",
    "\n",
    "Si y = 0, deberás indicar que el punto se encuentra sobre el eje horizontal.\n",
    "\n",
    "Si tanto x = 0 como y = 0, entonces deberás indicar que el punto se trata del origen de coordenadas."
   ]
  },
  {
   "cell_type": "code",
   "execution_count": 55,
   "id": "13ff58fb",
   "metadata": {},
   "outputs": [],
   "source": [
    "def coords(x,y):\n",
    "    if x > 0 and y > 0:\n",
    "        print(\"El punto se encuentra en el primer cuadrante.\")\n",
    "    elif x < 0 and y > 0:\n",
    "        print(\"El punto se encuentra en el segundo cuadrante.\")\n",
    "    elif x < 0 and y < 0:\n",
    "        print(\"El punto se encuentra en el tercer cuadrante.\")\n",
    "    elif x > 0 and y < 0:\n",
    "        print(\"El punto se encuentra en el cuarto cuadrante.\")\n",
    "    elif x == 0 and y == 0:\n",
    "        print(\"El punto se trata del origen de coordenadas.\")\n",
    "    elif x == 0:\n",
    "        print(\"El punto se encuentra sobre el eje vertical.\")\n",
    "    elif y == 0:\n",
    "        print(\"El punto se encuentra sobre el eje horizontal.\")\n",
    "    else:\n",
    "        print(\"No se encuentra el punto\")\n",
    "    return"
   ]
  },
  {
   "cell_type": "code",
   "execution_count": 64,
   "id": "6e9d7b18",
   "metadata": {},
   "outputs": [
    {
     "name": "stdout",
     "output_type": "stream",
     "text": [
      "El punto se encuentra en el primer cuadrante.\n"
     ]
    }
   ],
   "source": [
    "coords(1,2)"
   ]
  },
  {
   "cell_type": "markdown",
   "id": "e1bbeb3a",
   "metadata": {},
   "source": [
    "4. Escribe una secuencia de instrucciones que permitan leer dos números enteros y muestre el cociente de la división entera y el resto de la división entera."
   ]
  },
  {
   "cell_type": "code",
   "execution_count": 72,
   "id": "1b1678d1",
   "metadata": {},
   "outputs": [],
   "source": [
    "def division(a,b):\n",
    "    coc_ab = a//b\n",
    "    rest_ab = a%b\n",
    "    coc_ba = b//a\n",
    "    rest_ba = b%a\n",
    "    print(\"El cociente de la división entera de a entre b es: \" + str(coc_ab) + \",\" + \" con resto: \" + str(rest_ab))\n",
    "    print(\"El cociente de la división entera de b entre a es: \" + str(coc_ba) + \",\" + \" con resto: \" + str(rest_ba))\n",
    "    return"
   ]
  },
  {
   "cell_type": "code",
   "execution_count": 73,
   "id": "d56f01f0",
   "metadata": {},
   "outputs": [
    {
     "name": "stdout",
     "output_type": "stream",
     "text": [
      "El cociente de la división entera de a entre b es: 4, con resto: 2\n",
      "El cociente de la división entera de b entre a es: 0, con resto: 4\n"
     ]
    }
   ],
   "source": [
    "division(18,4)"
   ]
  },
  {
   "cell_type": "markdown",
   "id": "6a44c1df",
   "metadata": {},
   "source": [
    "5. Escribe una secuencia de instrucciones que permitan leer un número entero y determinar si es cuadrado perfecto o no (piensa la mejor forma de hacerlo con lo que has aprendido hasta ahora)."
   ]
  },
  {
   "cell_type": "code",
   "execution_count": 26,
   "id": "4b22d4a5",
   "metadata": {},
   "outputs": [
    {
     "name": "stdout",
     "output_type": "stream",
     "text": [
      "Ingresa un número: 9\n",
      "El número ingresado es cuadrado perfecto\n"
     ]
    }
   ],
   "source": [
    "import math\n",
    "num = int(input(\"Ingresa un número: \"))\n",
    "a, b = math.modf(math.sqrt(num))\n",
    "if a == 0.0:\n",
    "    print(\"El número ingresado es cuadrado perfecto\")\n",
    "else: \n",
    "    print(\"El número ingresado no es cuadrado perfecto\")"
   ]
  },
  {
   "cell_type": "markdown",
   "id": "ccf51804",
   "metadata": {},
   "source": [
    "6. Escribe una expresión que permita determinar si un número entero positivo puede corresponder a un año bisiesto o no. Se consideran años bisiestos aquellos cuyo número es divisible por cuatro excepto los años que son múltiplos de 100, a no ser que lo sean de 400 (por ejemplo el año 2000 fue bisiesto pero el 2100 no lo será)."
   ]
  },
  {
   "cell_type": "code",
   "execution_count": 49,
   "id": "9dce8cd8",
   "metadata": {},
   "outputs": [
    {
     "name": "stdout",
     "output_type": "stream",
     "text": [
      "Ingresa un número: 1996\n",
      "El número introducido corresponde a un año bisiesto.\n"
     ]
    }
   ],
   "source": [
    "num = input(\"Ingresa un número: \")\n",
    "num = int(num)\n",
    "if num % 4 == 0 and num % 100 != 0 or num % 400 == 0:\n",
    "    print(\"El número introducido corresponde a un año bisiesto.\")\n",
    "else:\n",
    "    print(\"El número introducido no corresponde a un año bisiesto.\")"
   ]
  },
  {
   "cell_type": "markdown",
   "id": "90946e18",
   "metadata": {},
   "source": [
    "7. Busca la imagen de un tablero de ajedrez en Google y fíjate en la nomenclatura de las casillas. Escribe una secuencia que lea una letra y un número de teclado correspondiente a una casilla de un tablero de ajedrez y que indique si esta casilla es negra o blanca."
   ]
  },
  {
   "cell_type": "code",
   "execution_count": 18,
   "id": "d035eaf4",
   "metadata": {},
   "outputs": [
    {
     "name": "stdout",
     "output_type": "stream",
     "text": [
      "Ingresa la letra correspondiente a la casilla de ajedrez deseada: D\n",
      "Ahora ingresa el número: 4\n",
      "La casilla indicada es blanca.\n"
     ]
    }
   ],
   "source": [
    "letra = input(\"Ingresa la letra correspondiente a la casilla de ajedrez deseada: \")\n",
    "num = input(\"Ahora ingresa el número: \")\n",
    "if int(num) % 2 == 0 and (letra == \"A\" or letra == \"C\" or letra == \"E\" or letra == \"G\"):\n",
    "        print(\"La casilla indicada es negra.\")\n",
    "elif int(num) % 2 != 0 and (letra == \"B\" or letra == \"D\" or letra == \"F\" or letra == \"H\"):\n",
    "        print(\"La casilla indicada es negra.\")\n",
    "else:\n",
    "    print(\"La casilla indicada es blanca.\")"
   ]
  }
 ],
 "metadata": {
  "kernelspec": {
   "display_name": "Python 3",
   "language": "python",
   "name": "python3"
  },
  "language_info": {
   "codemirror_mode": {
    "name": "ipython",
    "version": 3
   },
   "file_extension": ".py",
   "mimetype": "text/x-python",
   "name": "python",
   "nbconvert_exporter": "python",
   "pygments_lexer": "ipython3",
   "version": "3.7.11"
  }
 },
 "nbformat": 4,
 "nbformat_minor": 5
}
