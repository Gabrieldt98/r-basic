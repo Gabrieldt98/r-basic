{
 "cells": [
  {
   "cell_type": "markdown",
   "id": "51d007bb",
   "metadata": {},
   "source": [
    "# Listas\n",
    "Son contenedores que permiten almacenar una colección de objetos en un orden determinado. Se pueden acceder, añadir o eliminar objetos de forma sencilla."
   ]
  },
  {
   "cell_type": "code",
   "execution_count": 1,
   "id": "7b2cc976",
   "metadata": {},
   "outputs": [],
   "source": [
    "L1 = [] # Lista vacía"
   ]
  },
  {
   "cell_type": "code",
   "execution_count": 2,
   "id": "fce32cc5",
   "metadata": {},
   "outputs": [],
   "source": [
    "L2 = ['a','e','i','o','u'] # Lista con valores iniciales"
   ]
  },
  {
   "cell_type": "code",
   "execution_count": 3,
   "id": "9d293ae6",
   "metadata": {},
   "outputs": [],
   "source": [
    "L3 = [2,3,5,7,11] # Lista con valores enteros"
   ]
  },
  {
   "cell_type": "code",
   "execution_count": 12,
   "id": "4b080043",
   "metadata": {},
   "outputs": [],
   "source": [
    "L4 = ['a', 5, True, \"Juan Gabriel\"] # Lista heterogénea con varios tipos de datos diferentes"
   ]
  },
  {
   "cell_type": "code",
   "execution_count": 13,
   "id": "8cd5182a",
   "metadata": {},
   "outputs": [
    {
     "data": {
      "text/plain": [
       "['a', 5, True, 'Juan Gabriel']"
      ]
     },
     "execution_count": 13,
     "metadata": {},
     "output_type": "execute_result"
    }
   ],
   "source": [
    "L4"
   ]
  },
  {
   "cell_type": "code",
   "execution_count": null,
   "id": "819a5928",
   "metadata": {},
   "outputs": [],
   "source": []
  },
  {
   "cell_type": "code",
   "execution_count": 26,
   "id": "b89df735",
   "metadata": {},
   "outputs": [],
   "source": [
    "L5 = [0]*10"
   ]
  },
  {
   "cell_type": "code",
   "execution_count": 27,
   "id": "9edb3625",
   "metadata": {},
   "outputs": [
    {
     "data": {
      "text/plain": [
       "[0, 0, 0, 0, 0, 0, 0, 0, 0, 0]"
      ]
     },
     "execution_count": 27,
     "metadata": {},
     "output_type": "execute_result"
    }
   ],
   "source": [
    "L5"
   ]
  },
  {
   "cell_type": "code",
   "execution_count": 28,
   "id": "ea8ffbdd",
   "metadata": {},
   "outputs": [
    {
     "ename": "NameError",
     "evalue": "name 'L4' is not defined",
     "output_type": "error",
     "traceback": [
      "\u001b[1;31m---------------------------------------------------------------------------\u001b[0m",
      "\u001b[1;31mNameError\u001b[0m                                 Traceback (most recent call last)",
      "\u001b[1;32m<ipython-input-28-e86f2a6b8daf>\u001b[0m in \u001b[0;36m<module>\u001b[1;34m\u001b[0m\n\u001b[1;32m----> 1\u001b[1;33m \u001b[0mL4\u001b[0m\u001b[1;33m[\u001b[0m\u001b[1;36m0\u001b[0m\u001b[1;33m]\u001b[0m \u001b[1;31m# Las listas en Python empiezan en la posición número 0\u001b[0m\u001b[1;33m\u001b[0m\u001b[1;33m\u001b[0m\u001b[0m\n\u001b[0m",
      "\u001b[1;31mNameError\u001b[0m: name 'L4' is not defined"
     ]
    }
   ],
   "source": [
    "L4[0] # Las listas en Python empiezan en la posición número 0 "
   ]
  },
  {
   "cell_type": "code",
   "execution_count": 29,
   "id": "67c0db37",
   "metadata": {},
   "outputs": [
    {
     "ename": "NameError",
     "evalue": "name 'L4' is not defined",
     "output_type": "error",
     "traceback": [
      "\u001b[1;31m---------------------------------------------------------------------------\u001b[0m",
      "\u001b[1;31mNameError\u001b[0m                                 Traceback (most recent call last)",
      "\u001b[1;32m<ipython-input-29-51e1aaa69f29>\u001b[0m in \u001b[0;36m<module>\u001b[1;34m\u001b[0m\n\u001b[1;32m----> 1\u001b[1;33m \u001b[0mL4\u001b[0m\u001b[1;33m[\u001b[0m\u001b[1;36m1\u001b[0m\u001b[1;33m]\u001b[0m\u001b[1;33m\u001b[0m\u001b[1;33m\u001b[0m\u001b[0m\n\u001b[0m",
      "\u001b[1;31mNameError\u001b[0m: name 'L4' is not defined"
     ]
    }
   ],
   "source": [
    "L4[1]"
   ]
  },
  {
   "cell_type": "code",
   "execution_count": 30,
   "id": "a5b78ebc",
   "metadata": {},
   "outputs": [],
   "source": [
    "L5[4] = 3.1415 # Modificación de valores"
   ]
  },
  {
   "cell_type": "code",
   "execution_count": 31,
   "id": "206fffbb",
   "metadata": {},
   "outputs": [
    {
     "data": {
      "text/plain": [
       "[0, 0, 0, 0, 3.1415, 0, 0, 0, 0, 0]"
      ]
     },
     "execution_count": 31,
     "metadata": {},
     "output_type": "execute_result"
    }
   ],
   "source": [
    "L5"
   ]
  },
  {
   "cell_type": "code",
   "execution_count": 32,
   "id": "5993fad6",
   "metadata": {},
   "outputs": [
    {
     "ename": "IndexError",
     "evalue": "list assignment index out of range",
     "output_type": "error",
     "traceback": [
      "\u001b[1;31m---------------------------------------------------------------------------\u001b[0m",
      "\u001b[1;31mIndexError\u001b[0m                                Traceback (most recent call last)",
      "\u001b[1;32m<ipython-input-32-ffc9f2456172>\u001b[0m in \u001b[0;36m<module>\u001b[1;34m\u001b[0m\n\u001b[1;32m----> 1\u001b[1;33m \u001b[0mL5\u001b[0m\u001b[1;33m[\u001b[0m\u001b[1;36m13\u001b[0m\u001b[1;33m]\u001b[0m \u001b[1;33m=\u001b[0m \u001b[1;36m8\u001b[0m\u001b[1;33m\u001b[0m\u001b[1;33m\u001b[0m\u001b[0m\n\u001b[0m",
      "\u001b[1;31mIndexError\u001b[0m: list assignment index out of range"
     ]
    }
   ],
   "source": [
    "L5[13] = 8"
   ]
  },
  {
   "cell_type": "code",
   "execution_count": 33,
   "id": "8b1ed618",
   "metadata": {},
   "outputs": [
    {
     "ename": "IndexError",
     "evalue": "list index out of range",
     "output_type": "error",
     "traceback": [
      "\u001b[1;31m---------------------------------------------------------------------------\u001b[0m",
      "\u001b[1;31mIndexError\u001b[0m                                Traceback (most recent call last)",
      "\u001b[1;32m<ipython-input-33-e8b0a95d1450>\u001b[0m in \u001b[0;36m<module>\u001b[1;34m\u001b[0m\n\u001b[1;32m----> 1\u001b[1;33m \u001b[0mL5\u001b[0m\u001b[1;33m[\u001b[0m\u001b[1;36m13\u001b[0m\u001b[1;33m]\u001b[0m\u001b[1;33m\u001b[0m\u001b[1;33m\u001b[0m\u001b[0m\n\u001b[0m",
      "\u001b[1;31mIndexError\u001b[0m: list index out of range"
     ]
    }
   ],
   "source": [
    "L5[13]"
   ]
  },
  {
   "cell_type": "code",
   "execution_count": 34,
   "id": "f31fbd82",
   "metadata": {},
   "outputs": [
    {
     "ename": "NameError",
     "evalue": "name 'L4' is not defined",
     "output_type": "error",
     "traceback": [
      "\u001b[1;31m---------------------------------------------------------------------------\u001b[0m",
      "\u001b[1;31mNameError\u001b[0m                                 Traceback (most recent call last)",
      "\u001b[1;32m<ipython-input-34-f599f3f59e35>\u001b[0m in \u001b[0;36m<module>\u001b[1;34m\u001b[0m\n\u001b[1;32m----> 1\u001b[1;33m \u001b[0mL4\u001b[0m\u001b[1;33m[\u001b[0m\u001b[1;36m0\u001b[0m\u001b[1;33m:\u001b[0m\u001b[1;36m2\u001b[0m\u001b[1;33m]\u001b[0m \u001b[1;31m# Accesos de posiciones múltiples (incluye la primera, pero no la última)\u001b[0m\u001b[1;33m\u001b[0m\u001b[1;33m\u001b[0m\u001b[0m\n\u001b[0m",
      "\u001b[1;31mNameError\u001b[0m: name 'L4' is not defined"
     ]
    }
   ],
   "source": [
    "L4[0:2] # Accesos de posiciones múltiples (incluye la primera, pero no la última)"
   ]
  },
  {
   "cell_type": "code",
   "execution_count": 35,
   "id": "91e15e3a",
   "metadata": {},
   "outputs": [],
   "source": [
    "L5[1:4] = [1,2,3]"
   ]
  },
  {
   "cell_type": "code",
   "execution_count": 36,
   "id": "d6bbc331",
   "metadata": {},
   "outputs": [
    {
     "data": {
      "text/plain": [
       "[0, 1, 2, 3, 3.1415, 0, 0, 0, 0, 0]"
      ]
     },
     "execution_count": 36,
     "metadata": {},
     "output_type": "execute_result"
    }
   ],
   "source": [
    "L5"
   ]
  },
  {
   "cell_type": "code",
   "execution_count": 37,
   "id": "44faff25",
   "metadata": {},
   "outputs": [],
   "source": [
    "L5.append(8)"
   ]
  },
  {
   "cell_type": "code",
   "execution_count": 38,
   "id": "b0b081ca",
   "metadata": {},
   "outputs": [
    {
     "data": {
      "text/plain": [
       "[0, 1, 2, 3, 3.1415, 0, 0, 0, 0, 0, 8]"
      ]
     },
     "execution_count": 38,
     "metadata": {},
     "output_type": "execute_result"
    }
   ],
   "source": [
    "L5"
   ]
  },
  {
   "cell_type": "code",
   "execution_count": 39,
   "id": "b2311d91",
   "metadata": {},
   "outputs": [],
   "source": [
    "L5.remove(3) # Elimina la primera ocurrencia del objeto 3 de la lista L5"
   ]
  },
  {
   "cell_type": "code",
   "execution_count": 40,
   "id": "e9fcb0b0",
   "metadata": {},
   "outputs": [
    {
     "data": {
      "text/plain": [
       "[0, 1, 2, 3.1415, 0, 0, 0, 0, 0, 8]"
      ]
     },
     "execution_count": 40,
     "metadata": {},
     "output_type": "execute_result"
    }
   ],
   "source": [
    "L5"
   ]
  },
  {
   "cell_type": "code",
   "execution_count": 41,
   "id": "bbfac180",
   "metadata": {},
   "outputs": [],
   "source": [
    "L5.reverse()"
   ]
  },
  {
   "cell_type": "code",
   "execution_count": 43,
   "id": "ebe1b9c5",
   "metadata": {},
   "outputs": [
    {
     "data": {
      "text/plain": [
       "[8, 0, 0, 0, 0, 0, 3.1415, 2, 1, 0]"
      ]
     },
     "execution_count": 43,
     "metadata": {},
     "output_type": "execute_result"
    }
   ],
   "source": [
    "L5"
   ]
  },
  {
   "cell_type": "code",
   "execution_count": 44,
   "id": "e346823c",
   "metadata": {},
   "outputs": [
    {
     "data": {
      "text/plain": [
       "6"
      ]
     },
     "execution_count": 44,
     "metadata": {},
     "output_type": "execute_result"
    }
   ],
   "source": [
    "L5.count(0)"
   ]
  },
  {
   "cell_type": "code",
   "execution_count": 45,
   "id": "a7be3a61",
   "metadata": {},
   "outputs": [
    {
     "data": {
      "text/plain": [
       "7"
      ]
     },
     "execution_count": 45,
     "metadata": {},
     "output_type": "execute_result"
    }
   ],
   "source": [
    "L5.index(2)"
   ]
  },
  {
   "cell_type": "code",
   "execution_count": 46,
   "id": "8e3f0f7f",
   "metadata": {},
   "outputs": [
    {
     "data": {
      "text/plain": [
       "10"
      ]
     },
     "execution_count": 46,
     "metadata": {},
     "output_type": "execute_result"
    }
   ],
   "source": [
    "len(L5)"
   ]
  },
  {
   "cell_type": "code",
   "execution_count": 47,
   "id": "93e9d69c",
   "metadata": {},
   "outputs": [],
   "source": [
    "L = [1,2,3,4,5,6]"
   ]
  },
  {
   "cell_type": "code",
   "execution_count": 48,
   "id": "3da27005",
   "metadata": {},
   "outputs": [
    {
     "data": {
      "text/plain": [
       "[2, 4, 6]"
      ]
     },
     "execution_count": 48,
     "metadata": {},
     "output_type": "execute_result"
    }
   ],
   "source": [
    "L[1::2] # Sacar elementos en posición impar"
   ]
  },
  {
   "cell_type": "code",
   "execution_count": 49,
   "id": "ebc584b7",
   "metadata": {},
   "outputs": [
    {
     "data": {
      "text/plain": [
       "[1, 3, 5]"
      ]
     },
     "execution_count": 49,
     "metadata": {},
     "output_type": "execute_result"
    }
   ],
   "source": [
    "L[::2] # Sacar elementos en posición par"
   ]
  },
  {
   "cell_type": "code",
   "execution_count": 50,
   "id": "0d12fa01",
   "metadata": {},
   "outputs": [
    {
     "data": {
      "text/plain": [
       "6"
      ]
     },
     "execution_count": 50,
     "metadata": {},
     "output_type": "execute_result"
    }
   ],
   "source": [
    "L[-1]"
   ]
  },
  {
   "cell_type": "code",
   "execution_count": 51,
   "id": "6de605e0",
   "metadata": {},
   "outputs": [
    {
     "data": {
      "text/plain": [
       "False"
      ]
     },
     "execution_count": 51,
     "metadata": {},
     "output_type": "execute_result"
    }
   ],
   "source": [
    "8 in L"
   ]
  },
  {
   "cell_type": "code",
   "execution_count": 52,
   "id": "004240d0",
   "metadata": {},
   "outputs": [
    {
     "data": {
      "text/plain": [
       "True"
      ]
     },
     "execution_count": 52,
     "metadata": {},
     "output_type": "execute_result"
    }
   ],
   "source": [
    "4 in L"
   ]
  },
  {
   "cell_type": "markdown",
   "id": "c13b124d",
   "metadata": {},
   "source": [
    "# Bucles\n",
    "Los bucles **for** iteran sobre una colección (una lista, un string, un objeto iterable)"
   ]
  },
  {
   "cell_type": "code",
   "execution_count": 53,
   "id": "111743f7",
   "metadata": {},
   "outputs": [
    {
     "name": "stdout",
     "output_type": "stream",
     "text": [
      "1\n",
      "2\n",
      "3\n",
      "4\n",
      "5\n",
      "6\n"
     ]
    }
   ],
   "source": [
    "for numero in L:\n",
    "    print(numero)"
   ]
  },
  {
   "cell_type": "code",
   "execution_count": 54,
   "id": "9f38cc45",
   "metadata": {},
   "outputs": [
    {
     "data": {
      "text/plain": [
       "6"
      ]
     },
     "execution_count": 54,
     "metadata": {},
     "output_type": "execute_result"
    }
   ],
   "source": [
    "numero"
   ]
  },
  {
   "cell_type": "code",
   "execution_count": 55,
   "id": "33c80b7c",
   "metadata": {},
   "outputs": [
    {
     "name": "stdout",
     "output_type": "stream",
     "text": [
      "0\n",
      "1\n",
      "2\n",
      "3\n",
      "4\n",
      "5\n",
      "6\n",
      "7\n",
      "8\n",
      "9\n"
     ]
    }
   ],
   "source": [
    "for x in range(0,10): # range(10) = range(0,10)\n",
    "    print(x)"
   ]
  },
  {
   "cell_type": "code",
   "execution_count": 56,
   "id": "0acfd8da",
   "metadata": {},
   "outputs": [
    {
     "name": "stdout",
     "output_type": "stream",
     "text": [
      "G\n",
      "a\n",
      "b\n",
      "r\n",
      "i\n",
      "e\n",
      "l\n"
     ]
    }
   ],
   "source": [
    "for c in \"Gabriel\":\n",
    "    print(c)"
   ]
  },
  {
   "cell_type": "code",
   "execution_count": 57,
   "id": "63ae304b",
   "metadata": {},
   "outputs": [
    {
     "name": "stdout",
     "output_type": "stream",
     "text": [
      "6.34\n"
     ]
    }
   ],
   "source": [
    "notas = [3.5, 6.7, 8, 9, 4.5]\n",
    "suma = 0\n",
    "for nota in notas:\n",
    "    suma = suma + nota\n",
    "print(suma/len(notas))"
   ]
  },
  {
   "cell_type": "markdown",
   "id": "cf50a97b",
   "metadata": {},
   "source": [
    "El bucle **while** se repite hasta que la condición booleana deja de ser cierta."
   ]
  },
  {
   "cell_type": "code",
   "execution_count": 58,
   "id": "fa8639b8",
   "metadata": {},
   "outputs": [
    {
     "name": "stdout",
     "output_type": "stream",
     "text": [
      "0\n",
      "1\n",
      "2\n",
      "3\n",
      "4\n",
      "5\n",
      "6\n",
      "7\n",
      "8\n",
      "9\n"
     ]
    }
   ],
   "source": [
    "count = 0\n",
    "while count < 10:\n",
    "    print(count)\n",
    "    count += 1"
   ]
  },
  {
   "cell_type": "code",
   "execution_count": 59,
   "id": "a75e732b",
   "metadata": {},
   "outputs": [
    {
     "name": "stdout",
     "output_type": "stream",
     "text": [
      "0 2\n",
      "1 3\n",
      "2 5\n",
      "3 7\n",
      "4 11\n",
      "5 13\n",
      "6 17\n",
      "7 19\n",
      "8 23\n",
      "9 29\n"
     ]
    }
   ],
   "source": [
    "primos = [2,3,5,7,11,13,17,19,23,29]\n",
    "for idx, p in enumerate(primos):\n",
    "    print(idx, p)"
   ]
  },
  {
   "cell_type": "code",
   "execution_count": 60,
   "id": "99a7ea24",
   "metadata": {},
   "outputs": [
    {
     "name": "stdout",
     "output_type": "stream",
     "text": [
      "0\n",
      "1\n",
      "2\n",
      "3\n",
      "4\n",
      "5\n",
      "6\n",
      "7\n",
      "8\n",
      "9\n"
     ]
    }
   ],
   "source": [
    "for idx in range(len(primos)):\n",
    "    print(idx)"
   ]
  },
  {
   "cell_type": "code",
   "execution_count": 61,
   "id": "fee9f451",
   "metadata": {},
   "outputs": [
    {
     "name": "stdout",
     "output_type": "stream",
     "text": [
      "0 2\n",
      "1 3\n",
      "2 5\n",
      "3 7\n",
      "4 11\n",
      "5 13\n",
      "6 17\n",
      "7 19\n",
      "8 23\n",
      "9 29\n"
     ]
    }
   ],
   "source": [
    "for idx in range(len(primos)):\n",
    "    print(idx, primos[idx])"
   ]
  },
  {
   "cell_type": "markdown",
   "id": "482e6eb6",
   "metadata": {},
   "source": [
    "# Tupla\n",
    "Una tupla es una colección de objetos que no puede modificarse (tiene un tamaño y contenido fijo)."
   ]
  },
  {
   "cell_type": "code",
   "execution_count": 62,
   "id": "f5050013",
   "metadata": {},
   "outputs": [],
   "source": [
    "p1 = (1,)"
   ]
  },
  {
   "cell_type": "code",
   "execution_count": 63,
   "id": "94fa472e",
   "metadata": {},
   "outputs": [
    {
     "data": {
      "text/plain": [
       "(1,)"
      ]
     },
     "execution_count": 63,
     "metadata": {},
     "output_type": "execute_result"
    }
   ],
   "source": [
    "p1"
   ]
  },
  {
   "cell_type": "code",
   "execution_count": 64,
   "id": "980ff40f",
   "metadata": {},
   "outputs": [],
   "source": [
    "p2 = (1,2,3,4)"
   ]
  },
  {
   "cell_type": "code",
   "execution_count": 65,
   "id": "50db31ff",
   "metadata": {},
   "outputs": [
    {
     "data": {
      "text/plain": [
       "(1, 2, 3, 4)"
      ]
     },
     "execution_count": 65,
     "metadata": {},
     "output_type": "execute_result"
    }
   ],
   "source": [
    "p2"
   ]
  },
  {
   "cell_type": "code",
   "execution_count": 66,
   "id": "d785c78a",
   "metadata": {},
   "outputs": [],
   "source": [
    "p3 = (1,2,'c',3.1415)"
   ]
  },
  {
   "cell_type": "code",
   "execution_count": 67,
   "id": "dc6a0939",
   "metadata": {},
   "outputs": [
    {
     "data": {
      "text/plain": [
       "1"
      ]
     },
     "execution_count": 67,
     "metadata": {},
     "output_type": "execute_result"
    }
   ],
   "source": [
    "p3[0]"
   ]
  },
  {
   "cell_type": "code",
   "execution_count": 68,
   "id": "15d910d9",
   "metadata": {},
   "outputs": [
    {
     "data": {
      "text/plain": [
       "(1, 2)"
      ]
     },
     "execution_count": 68,
     "metadata": {},
     "output_type": "execute_result"
    }
   ],
   "source": [
    "p3[0:2]"
   ]
  },
  {
   "cell_type": "code",
   "execution_count": 69,
   "id": "b8cb33af",
   "metadata": {},
   "outputs": [],
   "source": [
    "a,b,c,d = p3"
   ]
  },
  {
   "cell_type": "code",
   "execution_count": 70,
   "id": "337ce9a2",
   "metadata": {},
   "outputs": [
    {
     "data": {
      "text/plain": [
       "1"
      ]
     },
     "execution_count": 70,
     "metadata": {},
     "output_type": "execute_result"
    }
   ],
   "source": [
    "a"
   ]
  },
  {
   "cell_type": "code",
   "execution_count": 71,
   "id": "7ec61c96",
   "metadata": {},
   "outputs": [
    {
     "data": {
      "text/plain": [
       "2"
      ]
     },
     "execution_count": 71,
     "metadata": {},
     "output_type": "execute_result"
    }
   ],
   "source": [
    "b"
   ]
  },
  {
   "cell_type": "code",
   "execution_count": 72,
   "id": "0affa6eb",
   "metadata": {},
   "outputs": [
    {
     "data": {
      "text/plain": [
       "'c'"
      ]
     },
     "execution_count": 72,
     "metadata": {},
     "output_type": "execute_result"
    }
   ],
   "source": [
    "c"
   ]
  },
  {
   "cell_type": "code",
   "execution_count": 73,
   "id": "2a42ebc5",
   "metadata": {},
   "outputs": [
    {
     "data": {
      "text/plain": [
       "3.1415"
      ]
     },
     "execution_count": 73,
     "metadata": {},
     "output_type": "execute_result"
    }
   ],
   "source": [
    "d"
   ]
  },
  {
   "cell_type": "code",
   "execution_count": 74,
   "id": "74b4d88f",
   "metadata": {},
   "outputs": [
    {
     "ename": "TypeError",
     "evalue": "'str' object is not callable",
     "output_type": "error",
     "traceback": [
      "\u001b[1;31m---------------------------------------------------------------------------\u001b[0m",
      "\u001b[1;31mTypeError\u001b[0m                                 Traceback (most recent call last)",
      "\u001b[1;32m<ipython-input-74-e1e62a864719>\u001b[0m in \u001b[0;36m<module>\u001b[1;34m\u001b[0m\n\u001b[1;32m----> 1\u001b[1;33m \u001b[0ml3\u001b[0m \u001b[1;33m=\u001b[0m \u001b[0mlist\u001b[0m\u001b[1;33m(\u001b[0m\u001b[0mp3\u001b[0m\u001b[1;33m)\u001b[0m\u001b[1;33m\u001b[0m\u001b[1;33m\u001b[0m\u001b[0m\n\u001b[0m\u001b[0;32m      2\u001b[0m \u001b[0mp3\u001b[0m\u001b[1;33m\u001b[0m\u001b[1;33m\u001b[0m\u001b[0m\n",
      "\u001b[1;31mTypeError\u001b[0m: 'str' object is not callable"
     ]
    }
   ],
   "source": [
    "l3 = list(p3)\n",
    "p3"
   ]
  },
  {
   "cell_type": "code",
   "execution_count": 76,
   "id": "444749a5",
   "metadata": {},
   "outputs": [
    {
     "data": {
      "text/plain": [
       "(8, 0, 0, 0, 0, 0, 3.1415, 2, 1, 0)"
      ]
     },
     "execution_count": 76,
     "metadata": {},
     "output_type": "execute_result"
    }
   ],
   "source": [
    "p5 = tuple(L5)\n",
    "p5"
   ]
  },
  {
   "cell_type": "code",
   "execution_count": 77,
   "id": "34006a10",
   "metadata": {},
   "outputs": [
    {
     "data": {
      "text/plain": [
       "['Hola', 'que', 'tal', '', '', 'estás']"
      ]
     },
     "execution_count": 77,
     "metadata": {},
     "output_type": "execute_result"
    }
   ],
   "source": [
    "\"Hola que tal   estás\".split(\" \")"
   ]
  },
  {
   "cell_type": "code",
   "execution_count": 78,
   "id": "4ed51233",
   "metadata": {},
   "outputs": [
    {
     "data": {
      "text/plain": [
       "['4', '6', '2', '7', '9', '4', '2']"
      ]
     },
     "execution_count": 78,
     "metadata": {},
     "output_type": "execute_result"
    }
   ],
   "source": [
    "\"4,6,2,7,9,4,2\".split(\",\")"
   ]
  },
  {
   "cell_type": "code",
   "execution_count": 79,
   "id": "56be487f",
   "metadata": {},
   "outputs": [
    {
     "name": "stdout",
     "output_type": "stream",
     "text": [
      "Ingrese una serie de números separados por coma: 1,2,3,4,5\n",
      "['1', '2', '3', '4', '5']\n",
      "('1', '2', '3', '4', '5')\n"
     ]
    }
   ],
   "source": [
    "data = input(\"Ingrese una serie de números separados por coma: \")\n",
    "lista = data.split(\",\")\n",
    "print(lista)\n",
    "tupla = tuple(lista)\n",
    "print(tupla)"
   ]
  },
  {
   "cell_type": "code",
   "execution_count": 81,
   "id": "405694ef",
   "metadata": {},
   "outputs": [
    {
     "name": "stdout",
     "output_type": "stream",
     "text": [
      "3.0\n"
     ]
    }
   ],
   "source": [
    "suma = 0\n",
    "for n in tupla:\n",
    "    suma += int(n)\n",
    "    \n",
    "print(suma/len(tupla))"
   ]
  },
  {
   "cell_type": "markdown",
   "id": "a2a603db",
   "metadata": {},
   "source": [
    "# Diccionario\n",
    "\n",
    "Colección no ordenada de pares de valores: claves <-> valores. Se indexa no por posición, si no utilizando las claves"
   ]
  },
  {
   "cell_type": "code",
   "execution_count": 82,
   "id": "402bb98f",
   "metadata": {},
   "outputs": [
    {
     "name": "stdout",
     "output_type": "stream",
     "text": [
      "Introduce aquí tu nombreGabriel\n",
      "Hola Gabriel\n"
     ]
    }
   ],
   "source": [
    "nombre = input(\"Introduce aquí tu nombre\")\n",
    "print(\"Hola %s\" %nombre)"
   ]
  },
  {
   "cell_type": "code",
   "execution_count": 83,
   "id": "4f670c1c",
   "metadata": {},
   "outputs": [
    {
     "name": "stdout",
     "output_type": "stream",
     "text": [
      "Estos son los números primos: [2, 3, 5, 7, 11, 13, 17, 19, 23, 29]\n"
     ]
    }
   ],
   "source": [
    "print(\"Estos son los números primos: %s\" %primos)"
   ]
  },
  {
   "cell_type": "code",
   "execution_count": 84,
   "id": "02b5b7a9",
   "metadata": {},
   "outputs": [
    {
     "name": "stdout",
     "output_type": "stream",
     "text": [
      "Esto es un número: 15\n"
     ]
    }
   ],
   "source": [
    "print(\"Esto es un número: %d\" %suma)"
   ]
  },
  {
   "cell_type": "code",
   "execution_count": 85,
   "id": "486eca27",
   "metadata": {},
   "outputs": [
    {
     "name": "stdout",
     "output_type": "stream",
     "text": [
      "Esto es un número decimal: 3.000\n"
     ]
    }
   ],
   "source": [
    "media = suma/len(tupla)\n",
    "print(\"Esto es un número decimal: %0.3f\" %media)"
   ]
  },
  {
   "cell_type": "code",
   "execution_count": 87,
   "id": "8c944613",
   "metadata": {},
   "outputs": [],
   "source": [
    "edad = {\n",
    "    \"Gabriel\":23, \n",
    "    \"Denise\":22, \n",
    "    \"Ramirez\":21, \n",
    "    \"Cisne\":20\n",
    "    }"
   ]
  },
  {
   "cell_type": "code",
   "execution_count": 88,
   "id": "cd89deff",
   "metadata": {},
   "outputs": [
    {
     "data": {
      "text/plain": [
       "23"
      ]
     },
     "execution_count": 88,
     "metadata": {},
     "output_type": "execute_result"
    }
   ],
   "source": [
    "edad[\"Gabriel\"]"
   ]
  },
  {
   "cell_type": "code",
   "execution_count": 89,
   "id": "78ab611c",
   "metadata": {},
   "outputs": [],
   "source": [
    "edad[\"Cisne\"] = 24"
   ]
  },
  {
   "cell_type": "code",
   "execution_count": 90,
   "id": "596643d8",
   "metadata": {},
   "outputs": [
    {
     "data": {
      "text/plain": [
       "{'Gabriel': 23, 'Denise': 22, 'Ramirez': 21, 'Cisne': 24}"
      ]
     },
     "execution_count": 90,
     "metadata": {},
     "output_type": "execute_result"
    }
   ],
   "source": [
    "edad"
   ]
  },
  {
   "cell_type": "code",
   "execution_count": 91,
   "id": "c20d00dc",
   "metadata": {},
   "outputs": [
    {
     "data": {
      "text/plain": [
       "dict_keys(['Gabriel', 'Denise', 'Ramirez', 'Cisne'])"
      ]
     },
     "execution_count": 91,
     "metadata": {},
     "output_type": "execute_result"
    }
   ],
   "source": [
    "edad.keys()"
   ]
  },
  {
   "cell_type": "code",
   "execution_count": 92,
   "id": "b5db0eef",
   "metadata": {},
   "outputs": [
    {
     "data": {
      "text/plain": [
       "dict_values([23, 22, 21, 24])"
      ]
     },
     "execution_count": 92,
     "metadata": {},
     "output_type": "execute_result"
    }
   ],
   "source": [
    "edad.values()"
   ]
  },
  {
   "cell_type": "code",
   "execution_count": 93,
   "id": "df577176",
   "metadata": {},
   "outputs": [
    {
     "data": {
      "text/plain": [
       "4"
      ]
     },
     "execution_count": 93,
     "metadata": {},
     "output_type": "execute_result"
    }
   ],
   "source": [
    "len(edad)"
   ]
  },
  {
   "cell_type": "code",
   "execution_count": 94,
   "id": "85fd98a3",
   "metadata": {},
   "outputs": [
    {
     "data": {
      "text/plain": [
       "False"
      ]
     },
     "execution_count": 94,
     "metadata": {},
     "output_type": "execute_result"
    }
   ],
   "source": [
    "\"José\" in edad"
   ]
  },
  {
   "cell_type": "code",
   "execution_count": 95,
   "id": "976d2331",
   "metadata": {},
   "outputs": [
    {
     "data": {
      "text/plain": [
       "True"
      ]
     },
     "execution_count": 95,
     "metadata": {},
     "output_type": "execute_result"
    }
   ],
   "source": [
    "\"Denise\" in edad"
   ]
  },
  {
   "cell_type": "code",
   "execution_count": 96,
   "id": "ee600410",
   "metadata": {},
   "outputs": [
    {
     "data": {
      "text/plain": [
       "True"
      ]
     },
     "execution_count": 96,
     "metadata": {},
     "output_type": "execute_result"
    }
   ],
   "source": [
    "\"José\" not in edad"
   ]
  },
  {
   "cell_type": "code",
   "execution_count": 97,
   "id": "70290a66",
   "metadata": {},
   "outputs": [],
   "source": [
    "del edad[\"Gabriel\"]"
   ]
  },
  {
   "cell_type": "code",
   "execution_count": 98,
   "id": "58459e8b",
   "metadata": {},
   "outputs": [
    {
     "data": {
      "text/plain": [
       "{'Denise': 22, 'Ramirez': 21, 'Cisne': 24}"
      ]
     },
     "execution_count": 98,
     "metadata": {},
     "output_type": "execute_result"
    }
   ],
   "source": [
    "edad"
   ]
  },
  {
   "cell_type": "code",
   "execution_count": 99,
   "id": "4b172a42",
   "metadata": {},
   "outputs": [
    {
     "data": {
      "text/plain": [
       "{'Al1': 3.5, 'Al2': 7.8, 'Al3': 10, 'Al4': False}"
      ]
     },
     "execution_count": 99,
     "metadata": {},
     "output_type": "execute_result"
    }
   ],
   "source": [
    "notas = {\"Al1\": 3.5, \"Al2\":7.8, \"Al3\":10, \"Al4\":False}\n",
    "notas"
   ]
  },
  {
   "cell_type": "code",
   "execution_count": null,
   "id": "a5e6aade",
   "metadata": {},
   "outputs": [],
   "source": []
  }
 ],
 "metadata": {
  "kernelspec": {
   "display_name": "Python 3",
   "language": "python",
   "name": "python3"
  },
  "language_info": {
   "codemirror_mode": {
    "name": "ipython",
    "version": 3
   },
   "file_extension": ".py",
   "mimetype": "text/x-python",
   "name": "python",
   "nbconvert_exporter": "python",
   "pygments_lexer": "ipython3",
   "version": "3.8.8"
  }
 },
 "nbformat": 4,
 "nbformat_minor": 5
}
