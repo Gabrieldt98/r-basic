{
 "cells": [
  {
   "cell_type": "markdown",
   "id": "4aeb6154",
   "metadata": {},
   "source": [
    "## Tarea 5"
   ]
  },
  {
   "cell_type": "markdown",
   "id": "8a6b1492",
   "metadata": {},
   "source": [
    "1. Crea una función que reciba los tres coeficientes a, b y c para resolver una ecuación de segundo grado. Muestra la solución por pantalla y ayúdate de la librería math para acceder a la función raíz cuadrada."
   ]
  },
  {
   "cell_type": "code",
   "execution_count": 49,
   "id": "b07a5517",
   "metadata": {},
   "outputs": [],
   "source": [
    "def secord(a,b,c):\n",
    "    import math\n",
    "    disc = b^2 - 4*a*c\n",
    "    if round(disc) < 0:\n",
    "        import cmath \n",
    "        x1 = (-b + cmath.sqrt(disc))/(2*a)\n",
    "        x2 = (-b - cmath.sqrt(disc))/(2*a)\n",
    "        print(\"Las soluciones de la ecuación son: \" + str(x1) + \" y \" + str(x2))\n",
    "    elif round(disc) == 0:\n",
    "        x1 = (-b + math.sqrt(disc))/(2*a)\n",
    "        x2 = (-b - math.sqrt(disc))/(2*a)\n",
    "        print(\"Las soluciones de la ecuación son: \" + str(x1) + \" y \" + str(x2))\n",
    "    else:\n",
    "        x1 = (-b + math.sqrt(disc))/(2*a)\n",
    "        x2 = (-b - math.sqrt(disc))/(2*a)\n",
    "        print(\"Las soluciones de la ecuación son: \" + str(x1) + \" y \" + str(x2))"
   ]
  },
  {
   "cell_type": "code",
   "execution_count": 50,
   "id": "0f25dd26",
   "metadata": {},
   "outputs": [
    {
     "name": "stdout",
     "output_type": "stream",
     "text": [
      "Las soluciones de la ecuación son: 0.12132034355964239 y -4.121320343559642\n"
     ]
    }
   ],
   "source": [
    "secord(1,4,-5)"
   ]
  },
  {
   "cell_type": "markdown",
   "id": "0dffd54d",
   "metadata": {},
   "source": [
    "2. Crea una función que lea una frase de teclado y nos diga si es o no un palíndromo (frase que se lee igual de izquierda a derecha o al revés como por ejemplo \"La ruta nos aportó otro paso natural\")."
   ]
  },
  {
   "cell_type": "code",
   "execution_count": 97,
   "id": "ebf3daa8",
   "metadata": {},
   "outputs": [],
   "source": [
    "def pal():\n",
    "    x = input(\"Ingresa una frase: \")\n",
    "    x = x.lower()\n",
    "    a,b = 'áéíóúü','aeiouu'\n",
    "    trans = str.maketrans(a,b)\n",
    "    x = x.translate(trans)\n",
    "    x = x.replace(\" \",\"\")\n",
    "    x = list(x)\n",
    "    x1 = x.copy()\n",
    "    x1.reverse()\n",
    "    if x == x1:\n",
    "        print(\"La frase ingresada es un palíndromo.\")\n",
    "    else:\n",
    "        print(\"La frase ingresada no es un palíndromo.\")"
   ]
  },
  {
   "cell_type": "code",
   "execution_count": 98,
   "id": "945a296c",
   "metadata": {},
   "outputs": [
    {
     "name": "stdout",
     "output_type": "stream",
     "text": [
      "Ingresa una frase: Isaac no ronca así\n",
      "La frase ingresada es un palíndromo.\n"
     ]
    }
   ],
   "source": [
    "pal()"
   ]
  },
  {
   "cell_type": "markdown",
   "id": "a40e2b2b",
   "metadata": {},
   "source": [
    "3. Crea un diccionario que tenga por claves los números del 1 al 10 y como valores sus raíces cuadradas."
   ]
  },
  {
   "cell_type": "code",
   "execution_count": 28,
   "id": "ae9acd98",
   "metadata": {},
   "outputs": [],
   "source": [
    "import math\n",
    "raiz = {\"1\":math.sqrt(1), \"2\":math.sqrt(2), \"3\":math.sqrt(3), \"4\":math.sqrt(4), \"5\":math.sqrt(5), \"6\":math.sqrt(6), \"7\":math.sqrt(7), \"8\":math.sqrt(8), \"9\":math.sqrt(9), \"10\":math.sqrt(10)}"
   ]
  },
  {
   "cell_type": "code",
   "execution_count": 27,
   "id": "6b0ed8c9",
   "metadata": {},
   "outputs": [
    {
     "data": {
      "text/plain": [
       "1.4142135623730951"
      ]
     },
     "execution_count": 27,
     "metadata": {},
     "output_type": "execute_result"
    }
   ],
   "source": [
    "raiz[\"2\"]"
   ]
  },
  {
   "cell_type": "markdown",
   "id": "3647140b",
   "metadata": {},
   "source": [
    "4. Crea un diccionario que tenga como claves las letras del alfabeto castellano y como valores los símbolos del código morse (los tienes todos en la Wikipedia). A continuación crea una función que lea una frase del teclado y te la convierta a morse utilizando el diccionario anterior."
   ]
  },
  {
   "cell_type": "code",
   "execution_count": 1,
   "id": "c6600b8f",
   "metadata": {},
   "outputs": [],
   "source": [
    "import string\n",
    "\n",
    "alfabeto = string.ascii_lowercase\n",
    "Lalfabeto = list(alfabeto)\n",
    "Lmorse = [\".-\", \"-...\", \"-.-.\", \"-..\", \".\", \"..-.\",\"--.\",\"....\",\"..\",\".---\",\"-.-\",\".-..\",\"--\",\"-.\",\"---\",\".--.\",\"--.-\",\".-.\",\"...\",\"-\",\"..-\",\"...-\",\".--\",\"-..-\",\"-.--\",\"--..\"]\n",
    "Dmorse = dict(zip(Lalfabeto, Lmorse))\n",
    "\n",
    "def trans():\n",
    "    x = input(\"Ingresa una frase a traducir a Morse: \")\n",
    "    x = x.lower()\n",
    "    x = x.replace(\" \",\"\")\n",
    "    x = list(x)\n",
    "    \n",
    "    l = []\n",
    "    for i in x:\n",
    "        l.append(Dmorse[i])\n",
    "    \n",
    "    trans = \" \".join(l)\n",
    "    print(trans)"
   ]
  },
  {
   "cell_type": "code",
   "execution_count": 2,
   "id": "a5aa4224",
   "metadata": {},
   "outputs": [
    {
     "name": "stdout",
     "output_type": "stream",
     "text": [
      "Ingresa una frase a traducir a Morse: uwu\n",
      "..- .-- ..-\n"
     ]
    }
   ],
   "source": [
    "trans()"
   ]
  },
  {
   "cell_type": "markdown",
   "id": "929fa351",
   "metadata": {},
   "source": [
    "5. Crea una función que dados dos diccionarios nos diga qué claves están presentes en ambos."
   ]
  },
  {
   "cell_type": "code",
   "execution_count": 1,
   "id": "bf7b73db",
   "metadata": {},
   "outputs": [],
   "source": [
    "a = {\"a\":1,\"b\":2}\n",
    "b = {\"c\":3,\"d\":4}\n",
    "\n",
    "def dictCheck(a,b):\n",
    "    print(a.keys())\n",
    "    print(b.keys())"
   ]
  },
  {
   "cell_type": "code",
   "execution_count": 3,
   "id": "3dfce296",
   "metadata": {},
   "outputs": [
    {
     "name": "stdout",
     "output_type": "stream",
     "text": [
      "dict_keys(['a', 'b'])\n",
      "dict_keys(['c', 'd'])\n"
     ]
    }
   ],
   "source": [
    "dictCheck(a,b)"
   ]
  },
  {
   "cell_type": "markdown",
   "id": "ec60f22f",
   "metadata": {},
   "source": [
    "6. Crea una función que dado un número N nos diga si es primo o no (tiene que ir dividiendo por todos los números x comprendidos entre 2 y el número N - 1 y ver si la división de N / x tiene resto cero o no)."
   ]
  },
  {
   "cell_type": "code",
   "execution_count": 3,
   "id": "41a6c0a1",
   "metadata": {},
   "outputs": [],
   "source": [
    "def primos(N):\n",
    "    import numpy as np, math\n",
    "    #N = int(input(\"Ingresa un número: \"))\n",
    "    N = int(N)\n",
    "    x = np.linspace(2,N-1,N-2)\n",
    "    l = []\n",
    "    for i in x:\n",
    "        q = math.fmod(N,i)\n",
    "        l.append(q)\n",
    "    if 0 in l:\n",
    "        print(\"El número no es primo.\")\n",
    "    else:\n",
    "        print(\"El número es primo.\")"
   ]
  },
  {
   "cell_type": "code",
   "execution_count": 8,
   "id": "c346bcc9",
   "metadata": {},
   "outputs": [
    {
     "name": "stdout",
     "output_type": "stream",
     "text": [
      "El número es primo.\n"
     ]
    }
   ],
   "source": [
    "primos(11)"
   ]
  },
  {
   "cell_type": "markdown",
   "id": "12082b46",
   "metadata": {},
   "source": [
    "7. Investiga la documentación de la clase string y crea un método que lea una frase del teclado y escriba la primera letra de cada palabra en Mayúscula."
   ]
  },
  {
   "cell_type": "code",
   "execution_count": 47,
   "id": "fc00d333",
   "metadata": {},
   "outputs": [
    {
     "name": "stdout",
     "output_type": "stream",
     "text": [
      "Ingresa una frase: Hola padrino cómo se encuentra\n",
      "Hola Padrino Cómo Se Encuentra\n"
     ]
    }
   ],
   "source": [
    "import string\n",
    "\n",
    "x = input(\"Ingresa una frase: \")\n",
    "x = list(x)\n",
    "\n",
    "for elem in enumerate(x):\n",
    "    if elem[1] == ' ':\n",
    "        a = elem[0] + 1\n",
    "        x[a] = x[a].upper()\n",
    "\n",
    "x = ''.join(x)\n",
    "print(x)        "
   ]
  },
  {
   "cell_type": "markdown",
   "id": "02be1053",
   "metadata": {},
   "source": [
    "8. Crea una función que calcule el máximo común divisor de dos números introducidos por el usuario por teclado."
   ]
  },
  {
   "cell_type": "code",
   "execution_count": 49,
   "id": "44ea54aa",
   "metadata": {},
   "outputs": [
    {
     "name": "stdout",
     "output_type": "stream",
     "text": [
      "Introduce dos números separados por coma. 70,10\n",
      "El máximo común divisor (GDC) de los números introducidos es: 10.0\n"
     ]
    }
   ],
   "source": [
    "import numpy as np, math\n",
    "from collections import Counter\n",
    "\n",
    "digs = input(\"Introduce dos números separados por coma. \")\n",
    "l = digs.split(',')\n",
    "Ardig0 = np.linspace(1,int(l[0]),int(l[0]))\n",
    "Ardig1 = np.linspace(1,int(l[1]),int(l[1]))\n",
    "\n",
    "l1 = []\n",
    "for i in Ardig0:\n",
    "    q1 = math.fmod(int(l[0]),i)\n",
    "    \n",
    "    if q1 == 0:\n",
    "        l1.append(i)\n",
    "    else: \n",
    "        continue\n",
    "        \n",
    "l2 = []\n",
    "for i in Ardig1:\n",
    "    q2 = math.fmod(int(l[1]),i)\n",
    "    \n",
    "    if q2 == 0:\n",
    "        l2.append(i)\n",
    "    else: \n",
    "        continue\n",
    "\n",
    "l4 = []\n",
    "for i in l1:\n",
    "    if i in l2:\n",
    "        l4.append(i)\n",
    "    else:\n",
    "        continue\n",
    "\n",
    "gcd = np.max(l4)\n",
    "\n",
    "print(\"El máximo común divisor (GDC) de los números introducidos es: \" +str(gcd))"
   ]
  },
  {
   "cell_type": "code",
   "execution_count": 52,
   "id": "1be929d4",
   "metadata": {},
   "outputs": [],
   "source": [
    "def gcd(a,b):\n",
    "    from math import gcd\n",
    "    r = math.gcd(a,b)\n",
    "    print(\"El máximo común divisor entre dos números es: %0.1f\" %r)"
   ]
  },
  {
   "cell_type": "code",
   "execution_count": 53,
   "id": "b7a17dfb",
   "metadata": {},
   "outputs": [
    {
     "name": "stdout",
     "output_type": "stream",
     "text": [
      "El máximo común divisor entre dos números es: 6.0\n"
     ]
    }
   ],
   "source": [
    "gcd(6,60)"
   ]
  },
  {
   "cell_type": "markdown",
   "id": "01722cf7",
   "metadata": {},
   "source": [
    "9. Investiga el Cifrado del César y crea una función que lo reproduzca en Python. Cada letra del mensaje original se desplaza tres posiciones en el alfabeto estándar. La A se convierte en la D, la B se convierte en la E, la C se convierte en la F... y cuando se acaba el alfabeto se le vuelve a dar la vuelta: la X se convierte en la A, la Y en la B y la X en la C. Los números no sufren ninguna modificación."
   ]
  },
  {
   "cell_type": "code",
   "execution_count": 40,
   "id": "78f79d4a",
   "metadata": {},
   "outputs": [
    {
     "name": "stdout",
     "output_type": "stream",
     "text": [
      "Introduce un mensaje para ser cifrado: Hola como esta\n",
      "['K', 'R', 'O', 'D', 'F', 'R', 'P', 'R', 'H', 'V', 'W', 'D']\n",
      "El mensaje cifrado es: KRODFRPRHVWD\n"
     ]
    }
   ],
   "source": [
    "import string, numpy as np\n",
    "\n",
    "alfabeto = string.ascii_uppercase\n",
    "Lalfabeto = list(alfabeto)\n",
    "Lnums = np.linspace(0,25,26,dtype=int)\n",
    "cif = dict(zip(Lnums,Lalfabeto))\n",
    "\n",
    "mensaje = input(\"Introduce un mensaje para ser cifrado: \")\n",
    "mensaje = mensaje.upper()\n",
    "mensaje = mensaje.replace(\" \",\"\")\n",
    "mensaje = list(mensaje)\n",
    "\n",
    "l = []\n",
    "for letter in mensaje:\n",
    "    if letter in Lalfabeto:\n",
    "        l.append(Lalfabeto.index(letter))\n",
    "    else:\n",
    "        continue\n",
    "\n",
    "l2 = l.copy()      \n",
    "l2 = [x+3 for x in l2]\n",
    "\n",
    "l3 = []\n",
    "for i in l2:\n",
    "    l3.append(cif[i])\n",
    "print(l3)\n",
    "l4 = ''.join(l3)\n",
    "\n",
    "print(\"El mensaje cifrado es: \" + str(l4))"
   ]
  },
  {
   "cell_type": "code",
   "execution_count": 47,
   "id": "af5688f5",
   "metadata": {},
   "outputs": [],
   "source": [
    "def cifrado(mensaje):\n",
    "    import string, numpy as np\n",
    "\n",
    "    alfabeto = string.ascii_uppercase\n",
    "    Lalfabeto = list(alfabeto)\n",
    "    Lnums = np.linspace(0,25,26,dtype=int)\n",
    "    cif = dict(zip(Lnums,Lalfabeto))\n",
    "\n",
    "    #mensaje = input(\"Introduce un mensaje para ser cifrado: \")\n",
    "    mensaje = mensaje.upper()\n",
    "    mensaje = mensaje.replace(\" \",\"\")\n",
    "    mensaje = list(mensaje)\n",
    "\n",
    "    l = []\n",
    "    for letter in mensaje:\n",
    "        if letter in Lalfabeto:\n",
    "            l.append(Lalfabeto.index(letter))\n",
    "        else:\n",
    "            continue\n",
    "\n",
    "    l2 = l.copy()      \n",
    "    l2 = [x+3 for x in l2]\n",
    "\n",
    "    l3 = []\n",
    "    for i in l2:\n",
    "        l3.append(cif[i])\n",
    "    l4 = ''.join(l3)\n",
    "\n",
    "    print(\"El mensaje cifrado es: \" + str(l4))"
   ]
  },
  {
   "cell_type": "code",
   "execution_count": 48,
   "id": "0bd3b710",
   "metadata": {},
   "outputs": [
    {
     "name": "stdout",
     "output_type": "stream",
     "text": [
      "El mensaje cifrado es: KRODFRPRHVWD\n"
     ]
    }
   ],
   "source": [
    "cifrado(\"Hola como esta\")"
   ]
  },
  {
   "cell_type": "markdown",
   "id": "207cf30a",
   "metadata": {},
   "source": [
    "10. Dado una lista de nombres de persona, escribe una función que los ordene de tres formas diferentes:\n",
    "\n",
    "A. De forma alfabética\n",
    "\n",
    "B. De forma alfabética invertida\n",
    "\n",
    "C. De nombre más corto al más largo."
   ]
  },
  {
   "cell_type": "code",
   "execution_count": 20,
   "id": "d12f7719",
   "metadata": {},
   "outputs": [],
   "source": [
    "nom = [\"Cristina\", \"Alejandro\", \"Gabriel\"]\n",
    "def sorteado(nom):\n",
    "    alf = nom.copy()\n",
    "    alf.sort()\n",
    "    print(alf)\n",
    "    alfinv = nom.copy()\n",
    "    alfinv.sort(reverse = True)\n",
    "    print(alfinv)\n",
    "    length = nom.copy()\n",
    "    length.sort(key = len)\n",
    "    print(length)"
   ]
  },
  {
   "cell_type": "code",
   "execution_count": 21,
   "id": "954e694f",
   "metadata": {},
   "outputs": [
    {
     "name": "stdout",
     "output_type": "stream",
     "text": [
      "['Alejandro', 'Cristina', 'Gabriel']\n",
      "['Gabriel', 'Cristina', 'Alejandro']\n",
      "['Gabriel', 'Cristina', 'Alejandro']\n"
     ]
    }
   ],
   "source": [
    "sorteado(nom)"
   ]
  }
 ],
 "metadata": {
  "kernelspec": {
   "display_name": "Python 3",
   "language": "python",
   "name": "python3"
  },
  "language_info": {
   "codemirror_mode": {
    "name": "ipython",
    "version": 3
   },
   "file_extension": ".py",
   "mimetype": "text/x-python",
   "name": "python",
   "nbconvert_exporter": "python",
   "pygments_lexer": "ipython3",
   "version": "3.8.8"
  }
 },
 "nbformat": 4,
 "nbformat_minor": 5
}
