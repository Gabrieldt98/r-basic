{
 "cells": [
  {
   "cell_type": "markdown",
   "id": "4dd42788",
   "metadata": {},
   "source": [
    "# Funciones en Python"
   ]
  },
  {
   "cell_type": "code",
   "execution_count": 1,
   "id": "19713618",
   "metadata": {},
   "outputs": [],
   "source": [
    "def suma(x,y):\n",
    "    return x+y"
   ]
  },
  {
   "cell_type": "code",
   "execution_count": 2,
   "id": "d66cfed0",
   "metadata": {},
   "outputs": [],
   "source": [
    "class Operaciones(object):\n",
    "    def suma(self, x, y):\n",
    "        self.resultado = x+y\n",
    "        return self.resultado"
   ]
  },
  {
   "cell_type": "code",
   "execution_count": 3,
   "id": "81992f7a",
   "metadata": {},
   "outputs": [
    {
     "data": {
      "text/plain": [
       "5"
      ]
     },
     "execution_count": 3,
     "metadata": {},
     "output_type": "execute_result"
    }
   ],
   "source": [
    "suma(3,2)"
   ]
  },
  {
   "cell_type": "code",
   "execution_count": 5,
   "id": "436a8ac2",
   "metadata": {},
   "outputs": [
    {
     "data": {
      "text/plain": [
       "5"
      ]
     },
     "execution_count": 5,
     "metadata": {},
     "output_type": "execute_result"
    }
   ],
   "source": [
    "operInstance = Operaciones()\n",
    "operInstance.suma(3,2)"
   ]
  },
  {
   "cell_type": "code",
   "execution_count": 8,
   "id": "9da09aef",
   "metadata": {},
   "outputs": [],
   "source": [
    "def saludar():\n",
    "    name = str(input(\"Introduce tu nombre: \"))\n",
    "    if name:\n",
    "        print(\"Hola \"+name)\n",
    "    else:\n",
    "        print(\"Hola, estoy programando!\")\n",
    "    return"
   ]
  },
  {
   "cell_type": "code",
   "execution_count": 10,
   "id": "e2c710c9",
   "metadata": {},
   "outputs": [
    {
     "name": "stdout",
     "output_type": "stream",
     "text": [
      "Introduce tu nombre: \n",
      "Hola, estoy programando!\n"
     ]
    }
   ],
   "source": [
    "saludar()"
   ]
  },
  {
   "cell_type": "code",
   "execution_count": 11,
   "id": "e13a32d3",
   "metadata": {},
   "outputs": [
    {
     "data": {
      "text/plain": [
       "25"
      ]
     },
     "execution_count": 11,
     "metadata": {},
     "output_type": "execute_result"
    }
   ],
   "source": [
    "suma(2,3)*5"
   ]
  },
  {
   "cell_type": "code",
   "execution_count": 12,
   "id": "e2dc9bdb",
   "metadata": {},
   "outputs": [],
   "source": [
    "def buscaPares():\n",
    "    for x in range(10):\n",
    "        if x % 2 == 0:\n",
    "            return\n",
    "    print(\"Fin de la ejecución\")"
   ]
  },
  {
   "cell_type": "code",
   "execution_count": 13,
   "id": "1dbaab1f",
   "metadata": {},
   "outputs": [
    {
     "ename": "TypeError",
     "evalue": "unsupported operand type(s) for *: 'NoneType' and 'int'",
     "output_type": "error",
     "traceback": [
      "\u001b[1;31m---------------------------------------------------------------------------\u001b[0m",
      "\u001b[1;31mTypeError\u001b[0m                                 Traceback (most recent call last)",
      "\u001b[1;32m~\\AppData\\Local\\Temp/ipykernel_96076/498411841.py\u001b[0m in \u001b[0;36m<module>\u001b[1;34m\u001b[0m\n\u001b[1;32m----> 1\u001b[1;33m \u001b[0mbuscaPares\u001b[0m\u001b[1;33m(\u001b[0m\u001b[1;33m)\u001b[0m\u001b[1;33m*\u001b[0m\u001b[1;36m2\u001b[0m\u001b[1;33m\u001b[0m\u001b[1;33m\u001b[0m\u001b[0m\n\u001b[0m",
      "\u001b[1;31mTypeError\u001b[0m: unsupported operand type(s) for *: 'NoneType' and 'int'"
     ]
    }
   ],
   "source": [
    "buscaPares()*2"
   ]
  },
  {
   "cell_type": "code",
   "execution_count": 22,
   "id": "b22b8b4d",
   "metadata": {},
   "outputs": [],
   "source": [
    "def sumaresta(x,y): # también puedes definir por ejemplo, y=0 para decirle que en caso de ausencia use ese por defecto\n",
    "    suma = x+y\n",
    "    resta = x-y\n",
    "    return (suma, resta) # funciona también sin paréntesis"
   ]
  },
  {
   "cell_type": "code",
   "execution_count": 23,
   "id": "da80c59f",
   "metadata": {},
   "outputs": [
    {
     "data": {
      "text/plain": [
       "(5, -1)"
      ]
     },
     "execution_count": 23,
     "metadata": {},
     "output_type": "execute_result"
    }
   ],
   "source": [
    "sumaresta(2,3)"
   ]
  },
  {
   "cell_type": "code",
   "execution_count": 24,
   "id": "54072d35",
   "metadata": {},
   "outputs": [],
   "source": [
    "# 38. Argumentos variables y lambdas"
   ]
  },
  {
   "cell_type": "code",
   "execution_count": 26,
   "id": "876a2a21",
   "metadata": {},
   "outputs": [],
   "source": [
    "def suma(*args): # asterisco solo es para declararlo\n",
    "    return sum(args)"
   ]
  },
  {
   "cell_type": "code",
   "execution_count": 27,
   "id": "90ad10a8",
   "metadata": {},
   "outputs": [
    {
     "data": {
      "text/plain": [
       "3"
      ]
     },
     "execution_count": 27,
     "metadata": {},
     "output_type": "execute_result"
    }
   ],
   "source": [
    "suma(1,2)"
   ]
  },
  {
   "cell_type": "code",
   "execution_count": 28,
   "id": "6e6e9125",
   "metadata": {},
   "outputs": [
    {
     "data": {
      "text/plain": [
       "10"
      ]
     },
     "execution_count": 28,
     "metadata": {},
     "output_type": "execute_result"
    }
   ],
   "source": [
    "suma(1,2,3,4)"
   ]
  },
  {
   "cell_type": "code",
   "execution_count": 29,
   "id": "cf517704",
   "metadata": {},
   "outputs": [
    {
     "data": {
      "text/plain": [
       "55"
      ]
     },
     "execution_count": 29,
     "metadata": {},
     "output_type": "execute_result"
    }
   ],
   "source": [
    "suma(1,2,3,4,5,6,7,8,9,10)"
   ]
  },
  {
   "cell_type": "code",
   "execution_count": 33,
   "id": "09b5a9e7",
   "metadata": {},
   "outputs": [],
   "source": [
    "def sumacuadrados(*datos):\n",
    "    total = 0\n",
    "    for d in datos:\n",
    "        total += d**2 # total = total + d**2\n",
    "    return total"
   ]
  },
  {
   "cell_type": "code",
   "execution_count": 34,
   "id": "39e70bb4",
   "metadata": {},
   "outputs": [
    {
     "data": {
      "text/plain": [
       "14"
      ]
     },
     "execution_count": 34,
     "metadata": {},
     "output_type": "execute_result"
    }
   ],
   "source": [
    "sumacuadrados(1,2,3)"
   ]
  },
  {
   "cell_type": "code",
   "execution_count": 35,
   "id": "475869c3",
   "metadata": {},
   "outputs": [
    {
     "data": {
      "text/plain": [
       "262.9489"
      ]
     },
     "execution_count": 35,
     "metadata": {},
     "output_type": "execute_result"
    }
   ],
   "source": [
    "sumacuadrados(2.5,3.6,8.9,-2,12.67)"
   ]
  },
  {
   "cell_type": "markdown",
   "id": "f7789d73",
   "metadata": {},
   "source": [
    "# Funciones anónimas"
   ]
  },
  {
   "cell_type": "code",
   "execution_count": 36,
   "id": "afbefd65",
   "metadata": {},
   "outputs": [],
   "source": [
    "doble = lambda x: x*2"
   ]
  },
  {
   "cell_type": "code",
   "execution_count": 37,
   "id": "366ecab4",
   "metadata": {},
   "outputs": [
    {
     "data": {
      "text/plain": [
       "8"
      ]
     },
     "execution_count": 37,
     "metadata": {},
     "output_type": "execute_result"
    }
   ],
   "source": [
    "doble(4)"
   ]
  },
  {
   "cell_type": "code",
   "execution_count": 38,
   "id": "f434d8eb",
   "metadata": {},
   "outputs": [],
   "source": [
    "cuadrado = lambda x: x**2"
   ]
  },
  {
   "cell_type": "code",
   "execution_count": 39,
   "id": "526b15c5",
   "metadata": {},
   "outputs": [
    {
     "data": {
      "text/plain": [
       "25"
      ]
     },
     "execution_count": 39,
     "metadata": {},
     "output_type": "execute_result"
    }
   ],
   "source": [
    "cuadrado(5)"
   ]
  },
  {
   "cell_type": "code",
   "execution_count": 40,
   "id": "e520aeab",
   "metadata": {},
   "outputs": [],
   "source": [
    "suma = lambda x,y: x+y"
   ]
  },
  {
   "cell_type": "code",
   "execution_count": 42,
   "id": "1691374a",
   "metadata": {},
   "outputs": [
    {
     "data": {
      "text/plain": [
       "5"
      ]
     },
     "execution_count": 42,
     "metadata": {},
     "output_type": "execute_result"
    }
   ],
   "source": [
    "suma(2,3)"
   ]
  },
  {
   "cell_type": "code",
   "execution_count": 43,
   "id": "58e73ad2",
   "metadata": {},
   "outputs": [],
   "source": [
    "from functools import reduce"
   ]
  },
  {
   "cell_type": "code",
   "execution_count": 44,
   "id": "a174cee4",
   "metadata": {},
   "outputs": [],
   "source": [
    "data = [1,2,3,4,5,6,7,8,9,10]"
   ]
  },
  {
   "cell_type": "code",
   "execution_count": 45,
   "id": "5ccd2066",
   "metadata": {},
   "outputs": [],
   "source": [
    "filtered_data = list(filter(lambda x: (x*2>8), data)) # filtra a partir de una función"
   ]
  },
  {
   "cell_type": "code",
   "execution_count": 46,
   "id": "75279527",
   "metadata": {},
   "outputs": [
    {
     "data": {
      "text/plain": [
       "[5, 6, 7, 8, 9, 10]"
      ]
     },
     "execution_count": 46,
     "metadata": {},
     "output_type": "execute_result"
    }
   ],
   "source": [
    "filtered_data"
   ]
  },
  {
   "cell_type": "code",
   "execution_count": 47,
   "id": "cba90ae0",
   "metadata": {},
   "outputs": [],
   "source": [
    "mapped_data = list(map(lambda x: x*2, data)) # map transforma los datos"
   ]
  },
  {
   "cell_type": "code",
   "execution_count": 48,
   "id": "b38c5dc8",
   "metadata": {},
   "outputs": [
    {
     "data": {
      "text/plain": [
       "[2, 4, 6, 8, 10, 12, 14, 16, 18, 20]"
      ]
     },
     "execution_count": 48,
     "metadata": {},
     "output_type": "execute_result"
    }
   ],
   "source": [
    "mapped_data"
   ]
  },
  {
   "cell_type": "code",
   "execution_count": 49,
   "id": "b400b77b",
   "metadata": {},
   "outputs": [],
   "source": [
    "reduced_data = reduce(lambda x, y: x+y, data)"
   ]
  },
  {
   "cell_type": "code",
   "execution_count": 50,
   "id": "38c98de5",
   "metadata": {},
   "outputs": [
    {
     "data": {
      "text/plain": [
       "55"
      ]
     },
     "execution_count": 50,
     "metadata": {},
     "output_type": "execute_result"
    }
   ],
   "source": [
    "reduced_data"
   ]
  },
  {
   "cell_type": "code",
   "execution_count": null,
   "id": "7fa04b6c",
   "metadata": {},
   "outputs": [],
   "source": []
  }
 ],
 "metadata": {
  "kernelspec": {
   "display_name": "Python 3",
   "language": "python",
   "name": "python3"
  },
  "language_info": {
   "codemirror_mode": {
    "name": "ipython",
    "version": 3
   },
   "file_extension": ".py",
   "mimetype": "text/x-python",
   "name": "python",
   "nbconvert_exporter": "python",
   "pygments_lexer": "ipython3",
   "version": "3.7.11"
  }
 },
 "nbformat": 4,
 "nbformat_minor": 5
}
